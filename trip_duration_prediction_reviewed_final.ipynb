{
 "cells": [
  {
   "cell_type": "markdown",
   "id": "86d65dd9",
   "metadata": {},
   "source": [
    "# 🗂️ Trip Duration Prediction Project\n",
    "**Goal:** Predict the duration of NYC taxi trips using Linear Regression."
   ]
  },
  {
   "cell_type": "code",
   "execution_count": null,
   "id": "9fb37e58",
   "metadata": {},
   "outputs": [],
   "source": [
    "# 📦 1. Import Libraries\n",
    "import pandas as pd\n",
    "import numpy as np\n",
    "import matplotlib.pyplot as plt\n",
    "import seaborn as sns\n",
    "from sklearn.model_selection import train_test_split\n",
    "from sklearn.linear_model import LinearRegression\n",
    "from sklearn.metrics import mean_absolute_error, mean_squared_error, r2_score\n",
    "from sklearn.preprocessing import StandardScaler\n",
    "import joblib\n",
    "import warnings\n",
    "\n",
    "warnings.filterwarnings('ignore')\n",
    "sns.set(style=\"whitegrid\")"
   ]
  },
  {
   "cell_type": "code",
   "execution_count": null,
   "id": "b294f3ae",
   "metadata": {},
   "outputs": [],
   "source": [
    "# 📥 2. Load and Explore the Dataset\n",
    "df = pd.read_csv(\"C:\\\\ID\\\\train.csv\")\n",
    "\n",
    "print(\"Initial shape:\", df.shape)\n",
    "df.head()"
   ]
  },
  {
   "cell_type": "code",
   "execution_count": null,
   "id": "9d277650",
   "metadata": {},
   "outputs": [],
   "source": [
    "# 📊 3. Basic Info & Statistics\n",
    "df.info()\n",
    "df.describe()"
   ]
  },
  {
   "cell_type": "code",
   "execution_count": null,
   "id": "0bde586a",
   "metadata": {},
   "outputs": [],
   "source": [
    "# 🧹 4. Data Cleaning\n",
    "\n",
    "df = df[(df['passenger_count'] > 0) & (df['passenger_count'] <= 6)]\n",
    "df = df[(df['trip_duration'] >= 60) & (df['trip_duration'] <= 10800)]\n",
    "df = df[\n",
    "    (df['pickup_longitude'].between(-75, -72)) &\n",
    "    (df['dropoff_longitude'].between(-75, -72)) &\n",
    "    (df['pickup_latitude'].between(40, 42)) &\n",
    "    (df['dropoff_latitude'].between(40, 42))\n",
    "]\n",
    "\n",
    "print(\"Remaining rows after cleaning:\", len(df))"
   ]
  },
  {
   "cell_type": "code",
   "execution_count": null,
   "id": "b3b8a09b",
   "metadata": {},
   "outputs": [],
   "source": [
    "# 📈 5. Exploratory Data Analysis (EDA)\n",
    "\n",
    "# 1 - Histogram for Trip Duration Distribution (Raw)\n",
    "sns.histplot(df['trip_duration'], bins=100, kde=True)\n",
    "plt.title('Trip Duration Distribution')\n",
    "plt.show()"
   ]
  },
  {
   "cell_type": "markdown",
   "id": "76f8ad05",
   "metadata": {},
   "source": [
    "#### 🔍 My Observations:\n",
    "The distribution of `trip_duration` is highly right-skewed, indicating a long tail of unusually long trips.This skew can negatively affect models sensitive to distribution shape. Transformation is appropriate."
   ]
  },
  {
   "cell_type": "code",
   "execution_count": null,
   "id": "e847019e",
   "metadata": {},
   "outputs": [],
   "source": [
    "# 2 - Boxplot for Trip Duration (Outlier Detection)\n",
    "sns.boxplot(x=df['trip_duration'])\n",
    "plt.title('Trip Duration Boxplot')\n",
    "plt.show()"
   ]
  },
  {
   "cell_type": "markdown",
   "id": "57a56c0e",
   "metadata": {},
   "source": [
    "#### 🔍 My Observations:\n",
    "The boxplot shows multiple outliers in `trip_duration`, suggesting the need for capping or filtering. These outliers likely reflect rare long trips or anomalies."
   ]
  },
  {
   "cell_type": "code",
   "execution_count": null,
   "id": "29d58319",
   "metadata": {},
   "outputs": [],
   "source": [
    "# 3 - Histogram for Log-Transformed Trip Duration\n",
    "sns.histplot(np.log1p(df['trip_duration']), bins=50, kde=True)\n",
    "plt.title('Log Trip Duration Distribution')\n",
    "plt.show()"
   ]
  },
  {
   "cell_type": "markdown",
   "id": "40764ce9",
   "metadata": {},
   "source": [
    "#### 🔍 My Observations:\n",
    "Applying `log1p` to trip duration normalizes the distribution significantly, making it more Gaussian. This is beneficial for linear models like Linear Regression."
   ]
  },
  {
   "cell_type": "code",
   "execution_count": null,
   "id": "736144c9",
   "metadata": {},
   "outputs": [],
   "source": [
    "# 4 - Boxplot: Trip Duration by Vendor ID\n",
    "sns.boxplot(data=df, x=\"vendor_id\", y=\"trip_duration\")\n",
    "plt.ylim(0, 3000)\n",
    "plt.title('Trip Duration by Vendor ID')\n",
    "plt.show()"
   ]
  },
  {
   "cell_type": "markdown",
   "id": "2573ea44",
   "metadata": {},
   "source": [
    "#### 🔍 My Observations:\n",
    "Trip durations differ slightly across vendors, but overall variance is not large. Both vendors show similar central tendency, suggesting vendor_id might have low predictive power alone."
   ]
  },
  {
   "cell_type": "code",
   "execution_count": null,
   "id": "597ef5d0",
   "metadata": {},
   "outputs": [],
   "source": [
    "# 5 - Boxplot: Trip Duration by Passenger Count\n",
    "sns.boxplot(data=df, x=\"passenger_count\", y=\"trip_duration\")\n",
    "plt.ylim(0, 3000)\n",
    "plt.title('Trip Duration by Passenger Count')\n",
    "plt.show()"
   ]
  },
  {
   "cell_type": "markdown",
   "id": "2c4f2848",
   "metadata": {},
   "source": [
    "#### 🔍 My Observations:\n",
    "Most trips are made with 1-2 passengers. The duration doesn't vary much with passenger count, indicating this feature may have limited impact on prediction."
   ]
  },
  {
   "cell_type": "code",
   "execution_count": null,
   "id": "0b16e152",
   "metadata": {},
   "outputs": [],
   "source": [
    "# 🕓 6. Date/Time Feature Engineering\n",
    "\n",
    "df['pickup_datetime'] = pd.to_datetime(df['pickup_datetime'])\n",
    "df['pickup_hour'] = df['pickup_datetime'].dt.hour\n",
    "df['pickup_weekday'] = df['pickup_datetime'].dt.weekday\n",
    "df['pickup_month'] = df['pickup_datetime'].dt.month\n",
    "df['is_weekend'] = df['pickup_weekday'].apply(lambda x: 1 if x >= 5 else 0)\n",
    "\n",
    "def get_time_of_day(hour):\n",
    "    if 0 <= hour <= 5:\n",
    "        return 'night'\n",
    "    elif 6 <= hour <= 11:\n",
    "        return 'morning'\n",
    "    elif 12 <= hour <= 17:\n",
    "        return 'afternoon'\n",
    "    else:\n",
    "        return 'evening'\n",
    "\n",
    "df['time_of_day'] = df['pickup_hour'].apply(get_time_of_day)\n",
    "df = pd.get_dummies(df, columns=['time_of_day'], drop_first=True)"
   ]
  },
  {
   "cell_type": "code",
   "execution_count": null,
   "id": "3cd2d995",
   "metadata": {},
   "outputs": [],
   "source": [
    "# 📍 7. Distance Calculation\n",
    "\n",
    "def haversine(lat1, lon1, lat2, lon2):\n",
    "    R = 6371\n",
    "    lat1, lon1, lat2, lon2 = map(np.radians, [lat1, lon1, lat2, lon2])\n",
    "    dlat = lat2 - lat1\n",
    "    dlon = lon2 - lon1\n",
    "    a = np.sin(dlat/2)**2 + np.cos(lat1)*np.cos(lat2)*np.sin(dlon/2)**2\n",
    "    return R * 2 * np.arcsin(np.sqrt(a))\n",
    "\n",
    "df['distance_km'] = haversine(\n",
    "    df['pickup_latitude'], df['pickup_longitude'],\n",
    "    df['dropoff_latitude'], df['dropoff_longitude']\n",
    ")\n",
    "\n",
    "sns.scatterplot(data=df.sample(10000), x='distance_km', y='trip_duration', alpha=0.3)\n",
    "plt.ylim(0, 5000)\n",
    "plt.title(\"Trip Duration vs Distance\")\n",
    "plt.show()"
   ]
  },
  {
   "cell_type": "markdown",
   "id": "20fe696e",
   "metadata": {},
   "source": [
    "#### 🔍 My Observations:\n",
    "There's a strong positive correlation between `distance_km` and `trip_duration`, as expected. Some variability at short distances could be due to traffic, stops, or outliers."
   ]
  },
  {
   "cell_type": "code",
   "execution_count": 32,
   "id": "14753dd2",
   "metadata": {},
   "outputs": [
    {
     "data": {
      "image/png": "[encoded data removed]",
      "text/plain": [
       "<Figure size 640x480 with 1 Axes>"
      ]
     },
     "metadata": {},
     "output_type": "display_data"
    }
   ],
   "source": [
    "# 🔎 8. Additional EDA\n",
    "\n",
    "# 1 - Boxplot: Trip Duration by Store and Forward Flag\n",
    "sns.boxplot(data=df, x='store_and_fwd_flag', y='trip_duration')\n",
    "plt.ylim(0, 3000)\n",
    "plt.title(\"Trip Duration by Store and Forward Flag\")\n",
    "plt.show()\n"
   ]
  },
  {
   "cell_type": "markdown",
   "id": "97f769b6",
   "metadata": {},
   "source": [
    "#### 🔍 My Observations:\n",
    "`store_and_fwd_flag` appears to have little effect on trip duration. Most values are 'N'. Could be safe to include but not a strong predictor."
   ]
  },
  {
   "cell_type": "code",
   "execution_count": null,
   "id": "469cc923",
   "metadata": {},
   "outputs": [],
   "source": [
    "# 2 - Correlation Heatmap of Numerical Features\n",
    "numeric_cols = ['passenger_count', 'trip_duration', 'distance_km', 'pickup_hour', 'pickup_weekday', 'pickup_month']\n",
    "sns.heatmap(df[numeric_cols].corr(), annot=True, cmap='coolwarm')\n",
    "plt.title(\"Correlation Matrix\")\n",
    "plt.show()"
   ]
  },
  {
   "cell_type": "markdown",
   "id": "5af6fdd6",
   "metadata": {},
   "source": [
    "#### 🔍 My Observations:\n",
    "Strong correlation between `distance_km` and `trip_duration`.Time-based features show weaker correlations, indicating they may act more as secondary predictors."
   ]
  },
  {
   "cell_type": "code",
   "execution_count": null,
   "id": "76642447",
   "metadata": {},
   "outputs": [],
   "source": [
    "# 🧹 9. Preprocessing & Feature Engineering\n",
    "\n",
    "df['store_and_fwd_flag'] = df['store_and_fwd_flag'].map({'N': 0, 'Y': 1})\n",
    "df['log_trip_duration'] = np.log1p(df['trip_duration'])\n",
    "\n",
    "scaler = StandardScaler()\n",
    "num_features = ['distance_km', 'pickup_hour', 'pickup_weekday', 'pickup_month']\n",
    "df[num_features] = scaler.fit_transform(df[num_features])\n",
    "\n",
    "df['pickup_hour_sin'] = np.sin(2 * np.pi * df['pickup_hour'] / 24)\n",
    "df['pickup_hour_cos'] = np.cos(2 * np.pi * df['pickup_hour'] / 24)\n",
    "\n",
    "df['distance_bin'] = pd.cut(df['distance_km'], bins=[0, 2, 5, 10, 20, 50], \n",
    "                            labels=['very_short', 'short', 'medium', 'long', 'very_long'])\n",
    "df = pd.get_dummies(df, columns=['distance_bin'], drop_first=True)\n"
   ]
  },
  {
   "cell_type": "code",
   "execution_count": null,
   "id": "f1976c65",
   "metadata": {},
   "outputs": [],
   "source": [
    "# 🧠 10. Define Features & Train/Test Split\n",
    "\n",
    "features = [\n",
    "    'distance_km', 'pickup_hour', 'pickup_weekday', 'pickup_month',\n",
    "    'store_and_fwd_flag', 'is_weekend'\n",
    "]\n",
    "features += [col for col in df.columns if col.startswith('time_of_day_') or col.startswith('distance_bin_')]\n",
    "\n",
    "X = df[features]\n",
    "y = df['log_trip_duration']\n",
    "\n",
    "X_train, X_test, y_train, y_test = train_test_split(X, y, test_size=0.2, random_state=42)"
   ]
  },
  {
   "cell_type": "code",
   "execution_count": null,
   "id": "4ce7c5e2",
   "metadata": {},
   "outputs": [],
   "source": [
    "# 🔁 11. Train Linear Regression Model\n",
    "\n",
    "model = LinearRegression()\n",
    "model.fit(X_train, y_train)\n",
    "model.intercept_, model.coef_"
   ]
  },
  {
   "cell_type": "code",
   "execution_count": null,
   "id": "757d5b80",
   "metadata": {},
   "outputs": [],
   "source": [
    "# 📈 12. Evaluate Model\n",
    "\n",
    "y_pred = model.predict(X_test)\n",
    "\n",
    "mae = mean_absolute_error(y_test, y_pred)\n",
    "rmse = np.sqrt(mean_squared_error(y_test, y_pred))\n",
    "r2 = r2_score(y_test, y_pred)\n",
    "\n",
    "print(\"MAE (log):\", mae)\n",
    "print(\"RMSE (log):\", rmse)\n",
    "print(\"R² Score:\", r2)"
   ]
  },
  {
   "cell_type": "code",
   "execution_count": null,
   "id": "746658fe",
   "metadata": {},
   "outputs": [],
   "source": [
    "## 📊 13. Visualize Prediction Error\n",
    "\n",
    "# Convert log-transformed predictions and actual values back to original scale\n",
    "y_test_actual = np.expm1(y_test)     # Reverse log1p transformation\n",
    "y_pred_actual = np.expm1(y_pred)     # Reverse log1p transformation\n",
    "\n",
    "# Calculate percentage error for each test data point\n",
    "percentage_errors = np.abs((y_test_actual - y_pred_actual) / y_test_actual) * 100\n",
    "\n",
    "# Plot percentage error per data point in the test set\n",
    "plt.figure(figsize=(14, 6))\n",
    "plt.scatter(range(len(percentage_errors)), percentage_errors, \n",
    "            alpha=0.4, color='purple', s=10)\n",
    "plt.title('Percentage Error per Data Point (Test Set)', fontsize=14)\n",
    "plt.xlabel('Data Point Index')\n",
    "plt.ylabel('Percentage Error (%)')\n",
    "plt.grid(True)\n",
    "plt.show()\n",
    "\n"
   ]
  },
  {
   "cell_type": "code",
   "execution_count": null,
   "id": "fecfd38b",
   "metadata": {},
   "outputs": [],
   "source": [
    "## 📉 14. Remove Outliers from Error \n",
    "\n",
    "# Step 1: Convert predicted and true values back from log scale\n",
    "y_test_actual = np.expm1(y_test)\n",
    "y_pred_actual = np.expm1(y_pred)\n",
    "\n",
    "# Step 2: Calculate the absolute percentage error for each data point\n",
    "percentage_errors = np.abs((y_test_actual - y_pred_actual) / y_test_actual) * 100\n",
    "\n",
    "# Step 3: Compute the Interquartile Range (IQR)\n",
    "Q1 = np.percentile(percentage_errors, 25)\n",
    "Q3 = np.percentile(percentage_errors, 75)\n",
    "IQR = Q3 - Q1\n",
    "\n",
    "# Step 4: Define bounds to detect outliers\n",
    "lower_bound = Q1 - 1.5 * IQR\n",
    "upper_bound = Q3 + 1.5 * IQR\n",
    "\n",
    "# Step 5: Filter out percentage errors that fall outside the acceptable range\n",
    "filtered_errors = percentage_errors[(percentage_errors >= lower_bound) & (percentage_errors <= upper_bound)]\n",
    "\n",
    "# Step 6: Visualize the filtered percentage errors\n",
    "plt.figure(figsize=(14, 6))\n",
    "plt.scatter(range(len(filtered_errors)), filtered_errors, alpha=0.4, color='green', s=10)\n",
    "plt.title('Filtered Percentage Error per Data Point (No Outliers)', fontsize=14)\n",
    "plt.xlabel('Data Point Index')\n",
    "plt.ylabel('Percentage Error (%)')\n",
    "plt.grid(True)\n",
    "plt.show()\n",
    "\n",
    "\n"
   ]
  },
  {
   "cell_type": "code",
   "execution_count": null,
   "id": "0634581f",
   "metadata": {},
   "outputs": [],
   "source": [
    "# 💾 13. Save Model & Features\n",
    "\n",
    "features_used = X_train.columns.tolist()\n",
    "joblib.dump(model, 'model.pkl')\n",
    "joblib.dump(features_used, 'features_used.pkl')\n",
    "# Calculate and save the average trip duration in seconds\n",
    "avg_duration = df['trip_duration'].mean()\n",
    "joblib.dump(avg_duration, 'avg_duration.pkl')"
   ]
  },
  {
   "cell_type": "code",
   "execution_count": null,
   "id": "d2cfb86f",
   "metadata": {},
   "outputs": [],
   "source": []
  },
  {
   "cell_type": "markdown",
   "id": "2cf4b952",
   "metadata": {},
   "source": [
    "# ✅ Final Project Summary\n",
    "\n",
    "### ✅ Strengths:\n",
    "- The pipeline is complete and covers all key ML steps.\n",
    "- EDA is rich, with visualizations for distributions, relationships, and correlations.\n",
    "- Feature engineering includes datetime extraction, Haversine distance, and cyclical encoding.\n",
    "- Proper normalization and dummy encoding are applied.\n",
    "- Log transformation improves model handling of skewed data.\n",
    "- Model performance is assessed with standard metrics.\n",
    "- Streamlit-ready: includes model/feature export and average trip duration.\n",
    "\n",
    "### ⚠️ Suggestions for Improvement:\n",
    "- Could consider using `Ridge` or `Lasso` regression to improve generalization (LinearRegression has no regularization).\n",
    "- Consider removing or capping extreme distance values (a few may still be anomalies).\n",
    "- Add cross-validation for more robust evaluation.\n",
    "- Track training time if deploying at scale.\n",
    "\n",
    "### 📢 Verdict:\n",
    "**This project is professionally structured and is ready for portfolio or public publishing.** \n",
    "Add a brief README with key findings, sample predictions, and Streamlit usage, and you're good to go!\n"
   ]
  }
 ],
 "metadata": {
  "kernelspec": {
   "display_name": ".venv",
   "language": "python",
   "name": "python3"
  },
  "language_info": {
   "codemirror_mode": {
    "name": "ipython",
    "version": 3
   },
   "file_extension": ".py",
   "mimetype": "text/x-python",
   "name": "python",
   "nbconvert_exporter": "python",
   "pygments_lexer": "ipython3",
   "version": "3.13.4"
  }
 },
 "nbformat": 4,
 "nbformat_minor": 5
}
